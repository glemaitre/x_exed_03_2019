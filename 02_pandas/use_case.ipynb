{
 "cells": [
  {
   "cell_type": "markdown",
   "metadata": {},
   "source": [
    "# Introduction to data exploration mainly using Pandas"
   ]
  },
  {
   "cell_type": "code",
   "execution_count": 1,
   "metadata": {},
   "outputs": [],
   "source": [
    "%matplotlib inline\n",
    "import os\n",
    "import pandas as pd\n",
    "import numpy as np\n",
    "import matplotlib.pyplot as plt"
   ]
  },
  {
   "cell_type": "markdown",
   "metadata": {},
   "source": [
    "## Part 1: simple manipulation of dataframe and series"
   ]
  },
  {
   "cell_type": "markdown",
   "metadata": {},
   "source": [
    "### Quick exploration of the format of our data"
   ]
  },
  {
   "cell_type": "markdown",
   "metadata": {},
   "source": [
    "The first step will be to open a CSV file which contain some information about some voting count of a referendum in France."
   ]
  },
  {
   "cell_type": "code",
   "execution_count": 2,
   "metadata": {},
   "outputs": [],
   "source": [
    "filename_referendum = os.path.join('data', 'referendum.csv')"
   ]
  },
  {
   "cell_type": "markdown",
   "metadata": {},
   "source": [
    "The data are not separated with a comma but a semi-colummn."
   ]
  },
  {
   "cell_type": "code",
   "execution_count": 3,
   "metadata": {},
   "outputs": [],
   "source": [
    "df = pd.read_csv(filename_referendum, sep=';')"
   ]
  },
  {
   "cell_type": "code",
   "execution_count": 4,
   "metadata": {},
   "outputs": [
    {
     "data": {
      "text/html": [
       "<div>\n",
       "<style scoped>\n",
       "    .dataframe tbody tr th:only-of-type {\n",
       "        vertical-align: middle;\n",
       "    }\n",
       "\n",
       "    .dataframe tbody tr th {\n",
       "        vertical-align: top;\n",
       "    }\n",
       "\n",
       "    .dataframe thead th {\n",
       "        text-align: right;\n",
       "    }\n",
       "</style>\n",
       "<table border=\"1\" class=\"dataframe\">\n",
       "  <thead>\n",
       "    <tr style=\"text-align: right;\">\n",
       "      <th></th>\n",
       "      <th>Department code</th>\n",
       "      <th>Department name</th>\n",
       "      <th>Town code</th>\n",
       "      <th>Town name</th>\n",
       "      <th>Registered</th>\n",
       "      <th>Abstentions</th>\n",
       "      <th>Null</th>\n",
       "      <th>Choice A</th>\n",
       "      <th>Choice B</th>\n",
       "    </tr>\n",
       "  </thead>\n",
       "  <tbody>\n",
       "    <tr>\n",
       "      <th>0</th>\n",
       "      <td>1</td>\n",
       "      <td>AIN</td>\n",
       "      <td>1</td>\n",
       "      <td>L'Abergement-Clémenciat</td>\n",
       "      <td>592</td>\n",
       "      <td>84</td>\n",
       "      <td>9</td>\n",
       "      <td>154</td>\n",
       "      <td>345</td>\n",
       "    </tr>\n",
       "    <tr>\n",
       "      <th>1</th>\n",
       "      <td>1</td>\n",
       "      <td>AIN</td>\n",
       "      <td>2</td>\n",
       "      <td>L'Abergement-de-Varey</td>\n",
       "      <td>215</td>\n",
       "      <td>36</td>\n",
       "      <td>5</td>\n",
       "      <td>66</td>\n",
       "      <td>108</td>\n",
       "    </tr>\n",
       "    <tr>\n",
       "      <th>2</th>\n",
       "      <td>1</td>\n",
       "      <td>AIN</td>\n",
       "      <td>4</td>\n",
       "      <td>Ambérieu-en-Bugey</td>\n",
       "      <td>8205</td>\n",
       "      <td>1698</td>\n",
       "      <td>126</td>\n",
       "      <td>2717</td>\n",
       "      <td>3664</td>\n",
       "    </tr>\n",
       "    <tr>\n",
       "      <th>3</th>\n",
       "      <td>1</td>\n",
       "      <td>AIN</td>\n",
       "      <td>5</td>\n",
       "      <td>Ambérieux-en-Dombes</td>\n",
       "      <td>1152</td>\n",
       "      <td>170</td>\n",
       "      <td>18</td>\n",
       "      <td>280</td>\n",
       "      <td>684</td>\n",
       "    </tr>\n",
       "    <tr>\n",
       "      <th>4</th>\n",
       "      <td>1</td>\n",
       "      <td>AIN</td>\n",
       "      <td>6</td>\n",
       "      <td>Ambléon</td>\n",
       "      <td>105</td>\n",
       "      <td>17</td>\n",
       "      <td>1</td>\n",
       "      <td>35</td>\n",
       "      <td>52</td>\n",
       "    </tr>\n",
       "  </tbody>\n",
       "</table>\n",
       "</div>"
      ],
      "text/plain": [
       "  Department code Department name  Town code                Town name  \\\n",
       "0               1             AIN          1  L'Abergement-Clémenciat   \n",
       "1               1             AIN          2    L'Abergement-de-Varey   \n",
       "2               1             AIN          4        Ambérieu-en-Bugey   \n",
       "3               1             AIN          5      Ambérieux-en-Dombes   \n",
       "4               1             AIN          6                  Ambléon   \n",
       "\n",
       "   Registered  Abstentions  Null  Choice A  Choice B  \n",
       "0         592           84     9       154       345  \n",
       "1         215           36     5        66       108  \n",
       "2        8205         1698   126      2717      3664  \n",
       "3        1152          170    18       280       684  \n",
       "4         105           17     1        35        52  "
      ]
     },
     "execution_count": 4,
     "metadata": {},
     "output_type": "execute_result"
    }
   ],
   "source": [
    "df.head()"
   ]
  },
  {
   "cell_type": "code",
   "execution_count": 5,
   "metadata": {},
   "outputs": [
    {
     "data": {
      "text/html": [
       "<div>\n",
       "<style scoped>\n",
       "    .dataframe tbody tr th:only-of-type {\n",
       "        vertical-align: middle;\n",
       "    }\n",
       "\n",
       "    .dataframe tbody tr th {\n",
       "        vertical-align: top;\n",
       "    }\n",
       "\n",
       "    .dataframe thead th {\n",
       "        text-align: right;\n",
       "    }\n",
       "</style>\n",
       "<table border=\"1\" class=\"dataframe\">\n",
       "  <thead>\n",
       "    <tr style=\"text-align: right;\">\n",
       "      <th></th>\n",
       "      <th>Department code</th>\n",
       "      <th>Department name</th>\n",
       "      <th>Town code</th>\n",
       "      <th>Town name</th>\n",
       "      <th>Registered</th>\n",
       "      <th>Abstentions</th>\n",
       "      <th>Null</th>\n",
       "      <th>Choice A</th>\n",
       "      <th>Choice B</th>\n",
       "    </tr>\n",
       "  </thead>\n",
       "  <tbody>\n",
       "    <tr>\n",
       "      <th>36786</th>\n",
       "      <td>ZZ</td>\n",
       "      <td>FRANCAIS DE L'ETRANGER</td>\n",
       "      <td>7</td>\n",
       "      <td>Europe centrale</td>\n",
       "      <td>89643</td>\n",
       "      <td>54981</td>\n",
       "      <td>318</td>\n",
       "      <td>17055</td>\n",
       "      <td>17289</td>\n",
       "    </tr>\n",
       "    <tr>\n",
       "      <th>36787</th>\n",
       "      <td>ZZ</td>\n",
       "      <td>FRANCAIS DE L'ETRANGER</td>\n",
       "      <td>8</td>\n",
       "      <td>Europe du Sud, Turquie, Israël</td>\n",
       "      <td>109763</td>\n",
       "      <td>84466</td>\n",
       "      <td>292</td>\n",
       "      <td>9299</td>\n",
       "      <td>15706</td>\n",
       "    </tr>\n",
       "    <tr>\n",
       "      <th>36788</th>\n",
       "      <td>ZZ</td>\n",
       "      <td>FRANCAIS DE L'ETRANGER</td>\n",
       "      <td>9</td>\n",
       "      <td>Afrique Nord-Ouest</td>\n",
       "      <td>98997</td>\n",
       "      <td>59887</td>\n",
       "      <td>321</td>\n",
       "      <td>22116</td>\n",
       "      <td>16673</td>\n",
       "    </tr>\n",
       "    <tr>\n",
       "      <th>36789</th>\n",
       "      <td>ZZ</td>\n",
       "      <td>FRANCAIS DE L'ETRANGER</td>\n",
       "      <td>10</td>\n",
       "      <td>Afrique Centre, Sud et Est</td>\n",
       "      <td>89859</td>\n",
       "      <td>46782</td>\n",
       "      <td>566</td>\n",
       "      <td>17008</td>\n",
       "      <td>25503</td>\n",
       "    </tr>\n",
       "    <tr>\n",
       "      <th>36790</th>\n",
       "      <td>ZZ</td>\n",
       "      <td>FRANCAIS DE L'ETRANGER</td>\n",
       "      <td>11</td>\n",
       "      <td>Europe de l'est, Asie, Océanie</td>\n",
       "      <td>80061</td>\n",
       "      <td>42911</td>\n",
       "      <td>488</td>\n",
       "      <td>13975</td>\n",
       "      <td>22687</td>\n",
       "    </tr>\n",
       "  </tbody>\n",
       "</table>\n",
       "</div>"
      ],
      "text/plain": [
       "      Department code         Department name  Town code  \\\n",
       "36786              ZZ  FRANCAIS DE L'ETRANGER          7   \n",
       "36787              ZZ  FRANCAIS DE L'ETRANGER          8   \n",
       "36788              ZZ  FRANCAIS DE L'ETRANGER          9   \n",
       "36789              ZZ  FRANCAIS DE L'ETRANGER         10   \n",
       "36790              ZZ  FRANCAIS DE L'ETRANGER         11   \n",
       "\n",
       "                            Town name  Registered  Abstentions  Null  \\\n",
       "36786                 Europe centrale       89643        54981   318   \n",
       "36787  Europe du Sud, Turquie, Israël      109763        84466   292   \n",
       "36788              Afrique Nord-Ouest       98997        59887   321   \n",
       "36789      Afrique Centre, Sud et Est       89859        46782   566   \n",
       "36790  Europe de l'est, Asie, Océanie       80061        42911   488   \n",
       "\n",
       "       Choice A  Choice B  \n",
       "36786     17055     17289  \n",
       "36787      9299     15706  \n",
       "36788     22116     16673  \n",
       "36789     17008     25503  \n",
       "36790     13975     22687  "
      ]
     },
     "execution_count": 5,
     "metadata": {},
     "output_type": "execute_result"
    }
   ],
   "source": [
    "df.tail()"
   ]
  },
  {
   "cell_type": "code",
   "execution_count": 6,
   "metadata": {},
   "outputs": [
    {
     "name": "stdout",
     "output_type": "stream",
     "text": [
      "<class 'pandas.core.frame.DataFrame'>\n",
      "RangeIndex: 36791 entries, 0 to 36790\n",
      "Data columns (total 9 columns):\n",
      "Department code    36791 non-null object\n",
      "Department name    36791 non-null object\n",
      "Town code          36791 non-null int64\n",
      "Town name          36791 non-null object\n",
      "Registered         36791 non-null int64\n",
      "Abstentions        36791 non-null int64\n",
      "Null               36791 non-null int64\n",
      "Choice A           36791 non-null int64\n",
      "Choice B           36791 non-null int64\n",
      "dtypes: int64(6), object(3)\n",
      "memory usage: 2.5+ MB\n"
     ]
    }
   ],
   "source": [
    "df.info()"
   ]
  },
  {
   "cell_type": "code",
   "execution_count": 7,
   "metadata": {},
   "outputs": [
    {
     "data": {
      "text/plain": [
       "RangeIndex(start=0, stop=36791, step=1)"
      ]
     },
     "execution_count": 7,
     "metadata": {},
     "output_type": "execute_result"
    }
   ],
   "source": [
    "df.index"
   ]
  },
  {
   "cell_type": "code",
   "execution_count": 8,
   "metadata": {},
   "outputs": [
    {
     "data": {
      "text/plain": [
       "Index(['Department code', 'Department name', 'Town code', 'Town name',\n",
       "       'Registered', 'Abstentions', 'Null', 'Choice A', 'Choice B'],\n",
       "      dtype='object')"
      ]
     },
     "execution_count": 8,
     "metadata": {},
     "output_type": "execute_result"
    }
   ],
   "source": [
    "df.columns"
   ]
  },
  {
   "cell_type": "markdown",
   "metadata": {},
   "source": [
    "It will be easier with we use the name of the city as an index."
   ]
  },
  {
   "cell_type": "code",
   "execution_count": 9,
   "metadata": {},
   "outputs": [],
   "source": [
    "df = df.set_index('Town name')"
   ]
  },
  {
   "cell_type": "code",
   "execution_count": 10,
   "metadata": {},
   "outputs": [
    {
     "data": {
      "text/html": [
       "<div>\n",
       "<style scoped>\n",
       "    .dataframe tbody tr th:only-of-type {\n",
       "        vertical-align: middle;\n",
       "    }\n",
       "\n",
       "    .dataframe tbody tr th {\n",
       "        vertical-align: top;\n",
       "    }\n",
       "\n",
       "    .dataframe thead th {\n",
       "        text-align: right;\n",
       "    }\n",
       "</style>\n",
       "<table border=\"1\" class=\"dataframe\">\n",
       "  <thead>\n",
       "    <tr style=\"text-align: right;\">\n",
       "      <th></th>\n",
       "      <th>Department code</th>\n",
       "      <th>Department name</th>\n",
       "      <th>Town code</th>\n",
       "      <th>Registered</th>\n",
       "      <th>Abstentions</th>\n",
       "      <th>Null</th>\n",
       "      <th>Choice A</th>\n",
       "      <th>Choice B</th>\n",
       "    </tr>\n",
       "    <tr>\n",
       "      <th>Town name</th>\n",
       "      <th></th>\n",
       "      <th></th>\n",
       "      <th></th>\n",
       "      <th></th>\n",
       "      <th></th>\n",
       "      <th></th>\n",
       "      <th></th>\n",
       "      <th></th>\n",
       "    </tr>\n",
       "  </thead>\n",
       "  <tbody>\n",
       "    <tr>\n",
       "      <th>L'Abergement-Clémenciat</th>\n",
       "      <td>1</td>\n",
       "      <td>AIN</td>\n",
       "      <td>1</td>\n",
       "      <td>592</td>\n",
       "      <td>84</td>\n",
       "      <td>9</td>\n",
       "      <td>154</td>\n",
       "      <td>345</td>\n",
       "    </tr>\n",
       "    <tr>\n",
       "      <th>L'Abergement-de-Varey</th>\n",
       "      <td>1</td>\n",
       "      <td>AIN</td>\n",
       "      <td>2</td>\n",
       "      <td>215</td>\n",
       "      <td>36</td>\n",
       "      <td>5</td>\n",
       "      <td>66</td>\n",
       "      <td>108</td>\n",
       "    </tr>\n",
       "    <tr>\n",
       "      <th>Ambérieu-en-Bugey</th>\n",
       "      <td>1</td>\n",
       "      <td>AIN</td>\n",
       "      <td>4</td>\n",
       "      <td>8205</td>\n",
       "      <td>1698</td>\n",
       "      <td>126</td>\n",
       "      <td>2717</td>\n",
       "      <td>3664</td>\n",
       "    </tr>\n",
       "    <tr>\n",
       "      <th>Ambérieux-en-Dombes</th>\n",
       "      <td>1</td>\n",
       "      <td>AIN</td>\n",
       "      <td>5</td>\n",
       "      <td>1152</td>\n",
       "      <td>170</td>\n",
       "      <td>18</td>\n",
       "      <td>280</td>\n",
       "      <td>684</td>\n",
       "    </tr>\n",
       "    <tr>\n",
       "      <th>Ambléon</th>\n",
       "      <td>1</td>\n",
       "      <td>AIN</td>\n",
       "      <td>6</td>\n",
       "      <td>105</td>\n",
       "      <td>17</td>\n",
       "      <td>1</td>\n",
       "      <td>35</td>\n",
       "      <td>52</td>\n",
       "    </tr>\n",
       "  </tbody>\n",
       "</table>\n",
       "</div>"
      ],
      "text/plain": [
       "                        Department code Department name  Town code  \\\n",
       "Town name                                                            \n",
       "L'Abergement-Clémenciat               1             AIN          1   \n",
       "L'Abergement-de-Varey                 1             AIN          2   \n",
       "Ambérieu-en-Bugey                     1             AIN          4   \n",
       "Ambérieux-en-Dombes                   1             AIN          5   \n",
       "Ambléon                               1             AIN          6   \n",
       "\n",
       "                         Registered  Abstentions  Null  Choice A  Choice B  \n",
       "Town name                                                                   \n",
       "L'Abergement-Clémenciat         592           84     9       154       345  \n",
       "L'Abergement-de-Varey           215           36     5        66       108  \n",
       "Ambérieu-en-Bugey              8205         1698   126      2717      3664  \n",
       "Ambérieux-en-Dombes            1152          170    18       280       684  \n",
       "Ambléon                         105           17     1        35        52  "
      ]
     },
     "execution_count": 10,
     "metadata": {},
     "output_type": "execute_result"
    }
   ],
   "source": [
    "df.head()"
   ]
  },
  {
   "cell_type": "markdown",
   "metadata": {},
   "source": [
    "### Let's answer to some basic questions"
   ]
  },
  {
   "cell_type": "markdown",
   "metadata": {},
   "source": [
    "* What is the city with the most registered people?"
   ]
  },
  {
   "cell_type": "code",
   "execution_count": 11,
   "metadata": {},
   "outputs": [
    {
     "data": {
      "text/plain": [
       "Town name\n",
       "L'Abergement-Clémenciat     592\n",
       "L'Abergement-de-Varey       215\n",
       "Ambérieu-en-Bugey          8205\n",
       "Ambérieux-en-Dombes        1152\n",
       "Ambléon                     105\n",
       "Name: Registered, dtype: int64"
      ]
     },
     "execution_count": 11,
     "metadata": {},
     "output_type": "execute_result"
    }
   ],
   "source": [
    "df.loc[:, 'Registered'].head()"
   ]
  },
  {
   "cell_type": "code",
   "execution_count": 12,
   "metadata": {},
   "outputs": [],
   "source": [
    "col_registered = df.loc[:, 'Registered']"
   ]
  },
  {
   "cell_type": "code",
   "execution_count": 13,
   "metadata": {},
   "outputs": [
    {
     "data": {
      "text/plain": [
       "1253322"
      ]
     },
     "execution_count": 13,
     "metadata": {},
     "output_type": "execute_result"
    }
   ],
   "source": [
    "col_registered.max()"
   ]
  },
  {
   "cell_type": "code",
   "execution_count": 14,
   "metadata": {},
   "outputs": [
    {
     "data": {
      "text/plain": [
       "Town name\n",
       "L'Abergement-Clémenciat           False\n",
       "L'Abergement-de-Varey             False\n",
       "Ambérieu-en-Bugey                 False\n",
       "Ambérieux-en-Dombes               False\n",
       "Ambléon                           False\n",
       "Ambronay                          False\n",
       "Ambutrix                          False\n",
       "Andert-et-Condon                  False\n",
       "Anglefort                         False\n",
       "Apremont                          False\n",
       "Aranc                             False\n",
       "Arandas                           False\n",
       "Arbent                            False\n",
       "Arbignieu                         False\n",
       "Arbigny                           False\n",
       "Argis                             False\n",
       "Armix                             False\n",
       "Ars-sur-Formans                   False\n",
       "Artemare                          False\n",
       "Asnières-sur-Saône                False\n",
       "Attignat                          False\n",
       "Bâgé-la-Ville                     False\n",
       "Bâgé-le-Châtel                    False\n",
       "Balan                             False\n",
       "Baneins                           False\n",
       "Beaupont                          False\n",
       "Beauregard                        False\n",
       "Bellignat                         False\n",
       "Béligneux                         False\n",
       "Bellegarde-sur-Valserine          False\n",
       "                                  ...  \n",
       "Tahaa                             False\n",
       "Tahuata                           False\n",
       "Taiarapu-Est                      False\n",
       "Taiarapu-Ouest                    False\n",
       "Takaroa                           False\n",
       "Taputapuatea                      False\n",
       "Tatakoto                          False\n",
       "Teva I Uta                        False\n",
       "Tubuai                            False\n",
       "Tumaraa                           False\n",
       "Tureia                            False\n",
       "Ua-Huka                           False\n",
       "Ua-Pou                            False\n",
       "Uturoa                            False\n",
       "Miquelon-Langlade                 False\n",
       "Saint-Pierre                      False\n",
       "Ensemble du département ZW        False\n",
       "Saint-Barthélémy                  False\n",
       "Saint-Martin                      False\n",
       "Amérique du Nord                  False\n",
       "Amérique latine                   False\n",
       "Europe du Nord                    False\n",
       "Benelux                           False\n",
       "Péninsule ibérique et Monaco      False\n",
       "Suisse                            False\n",
       "Europe centrale                   False\n",
       "Europe du Sud, Turquie, Israël    False\n",
       "Afrique Nord-Ouest                False\n",
       "Afrique Centre, Sud et Est        False\n",
       "Europe de l'est, Asie, Océanie    False\n",
       "Name: Registered, Length: 36791, dtype: bool"
      ]
     },
     "execution_count": 14,
     "metadata": {},
     "output_type": "execute_result"
    }
   ],
   "source": [
    "col_registered == col_registered.max()"
   ]
  },
  {
   "cell_type": "code",
   "execution_count": 15,
   "metadata": {},
   "outputs": [],
   "source": [
    "mask_most_registered = col_registered == col_registered.max()"
   ]
  },
  {
   "cell_type": "code",
   "execution_count": 16,
   "metadata": {},
   "outputs": [
    {
     "data": {
      "text/plain": [
       "Town name\n",
       "Paris    1253322\n",
       "Name: Registered, dtype: int64"
      ]
     },
     "execution_count": 16,
     "metadata": {},
     "output_type": "execute_result"
    }
   ],
   "source": [
    "col_registered.loc[mask_most_registered]"
   ]
  },
  {
   "cell_type": "code",
   "execution_count": 17,
   "metadata": {},
   "outputs": [
    {
     "data": {
      "text/html": [
       "<div>\n",
       "<style scoped>\n",
       "    .dataframe tbody tr th:only-of-type {\n",
       "        vertical-align: middle;\n",
       "    }\n",
       "\n",
       "    .dataframe tbody tr th {\n",
       "        vertical-align: top;\n",
       "    }\n",
       "\n",
       "    .dataframe thead th {\n",
       "        text-align: right;\n",
       "    }\n",
       "</style>\n",
       "<table border=\"1\" class=\"dataframe\">\n",
       "  <thead>\n",
       "    <tr style=\"text-align: right;\">\n",
       "      <th></th>\n",
       "      <th>Department code</th>\n",
       "      <th>Department name</th>\n",
       "      <th>Town code</th>\n",
       "      <th>Registered</th>\n",
       "      <th>Abstentions</th>\n",
       "      <th>Null</th>\n",
       "      <th>Choice A</th>\n",
       "      <th>Choice B</th>\n",
       "    </tr>\n",
       "    <tr>\n",
       "      <th>Town name</th>\n",
       "      <th></th>\n",
       "      <th></th>\n",
       "      <th></th>\n",
       "      <th></th>\n",
       "      <th></th>\n",
       "      <th></th>\n",
       "      <th></th>\n",
       "      <th></th>\n",
       "    </tr>\n",
       "  </thead>\n",
       "  <tbody>\n",
       "    <tr>\n",
       "      <th>Paris</th>\n",
       "      <td>75</td>\n",
       "      <td>PARIS</td>\n",
       "      <td>56</td>\n",
       "      <td>1253322</td>\n",
       "      <td>248755</td>\n",
       "      <td>12093</td>\n",
       "      <td>506594</td>\n",
       "      <td>485880</td>\n",
       "    </tr>\n",
       "  </tbody>\n",
       "</table>\n",
       "</div>"
      ],
      "text/plain": [
       "          Department code Department name  Town code  Registered  Abstentions  \\\n",
       "Town name                                                                       \n",
       "Paris                  75           PARIS         56     1253322       248755   \n",
       "\n",
       "            Null  Choice A  Choice B  \n",
       "Town name                             \n",
       "Paris      12093    506594    485880  "
      ]
     },
     "execution_count": 17,
     "metadata": {},
     "output_type": "execute_result"
    }
   ],
   "source": [
    "df.loc[mask_most_registered]"
   ]
  },
  {
   "cell_type": "markdown",
   "metadata": {},
   "source": [
    "* What is the city with the least number of registered persons?"
   ]
  },
  {
   "cell_type": "code",
   "execution_count": 18,
   "metadata": {},
   "outputs": [],
   "source": [
    "mask_least_registered = col_registered == col_registered.min()"
   ]
  },
  {
   "cell_type": "code",
   "execution_count": 19,
   "metadata": {},
   "outputs": [
    {
     "data": {
      "text/html": [
       "<div>\n",
       "<style scoped>\n",
       "    .dataframe tbody tr th:only-of-type {\n",
       "        vertical-align: middle;\n",
       "    }\n",
       "\n",
       "    .dataframe tbody tr th {\n",
       "        vertical-align: top;\n",
       "    }\n",
       "\n",
       "    .dataframe thead th {\n",
       "        text-align: right;\n",
       "    }\n",
       "</style>\n",
       "<table border=\"1\" class=\"dataframe\">\n",
       "  <thead>\n",
       "    <tr style=\"text-align: right;\">\n",
       "      <th></th>\n",
       "      <th>Department code</th>\n",
       "      <th>Department name</th>\n",
       "      <th>Town code</th>\n",
       "      <th>Registered</th>\n",
       "      <th>Abstentions</th>\n",
       "      <th>Null</th>\n",
       "      <th>Choice A</th>\n",
       "      <th>Choice B</th>\n",
       "    </tr>\n",
       "    <tr>\n",
       "      <th>Town name</th>\n",
       "      <th></th>\n",
       "      <th></th>\n",
       "      <th></th>\n",
       "      <th></th>\n",
       "      <th></th>\n",
       "      <th></th>\n",
       "      <th></th>\n",
       "      <th></th>\n",
       "    </tr>\n",
       "  </thead>\n",
       "  <tbody>\n",
       "    <tr>\n",
       "      <th>Douaumont</th>\n",
       "      <td>55</td>\n",
       "      <td>MEUSE</td>\n",
       "      <td>164</td>\n",
       "      <td>6</td>\n",
       "      <td>0</td>\n",
       "      <td>0</td>\n",
       "      <td>0</td>\n",
       "      <td>6</td>\n",
       "    </tr>\n",
       "  </tbody>\n",
       "</table>\n",
       "</div>"
      ],
      "text/plain": [
       "          Department code Department name  Town code  Registered  Abstentions  \\\n",
       "Town name                                                                       \n",
       "Douaumont              55           MEUSE        164           6            0   \n",
       "\n",
       "           Null  Choice A  Choice B  \n",
       "Town name                            \n",
       "Douaumont     0         0         6  "
      ]
     },
     "execution_count": 19,
     "metadata": {},
     "output_type": "execute_result"
    }
   ],
   "source": [
    "df.loc[mask_least_registered]"
   ]
  },
  {
   "cell_type": "markdown",
   "metadata": {},
   "source": [
    "Let's go to the `notebook.ipynb` to formalize the different aspect we just used up to now."
   ]
  },
  {
   "cell_type": "markdown",
   "metadata": {},
   "source": [
    "## Part 2: Group information together."
   ]
  },
  {
   "cell_type": "markdown",
   "metadata": {},
   "source": [
    "Let's now make a more advance analysis. Instead to make a micro-analysis by cities, we would like to make a macro-analysis by department."
   ]
  },
  {
   "cell_type": "code",
   "execution_count": 20,
   "metadata": {},
   "outputs": [
    {
     "data": {
      "text/html": [
       "<div>\n",
       "<style scoped>\n",
       "    .dataframe tbody tr th:only-of-type {\n",
       "        vertical-align: middle;\n",
       "    }\n",
       "\n",
       "    .dataframe tbody tr th {\n",
       "        vertical-align: top;\n",
       "    }\n",
       "\n",
       "    .dataframe thead th {\n",
       "        text-align: right;\n",
       "    }\n",
       "</style>\n",
       "<table border=\"1\" class=\"dataframe\">\n",
       "  <thead>\n",
       "    <tr style=\"text-align: right;\">\n",
       "      <th></th>\n",
       "      <th>Department code</th>\n",
       "      <th>Department name</th>\n",
       "      <th>Town code</th>\n",
       "      <th>Registered</th>\n",
       "      <th>Abstentions</th>\n",
       "      <th>Null</th>\n",
       "      <th>Choice A</th>\n",
       "      <th>Choice B</th>\n",
       "    </tr>\n",
       "    <tr>\n",
       "      <th>Town name</th>\n",
       "      <th></th>\n",
       "      <th></th>\n",
       "      <th></th>\n",
       "      <th></th>\n",
       "      <th></th>\n",
       "      <th></th>\n",
       "      <th></th>\n",
       "      <th></th>\n",
       "    </tr>\n",
       "  </thead>\n",
       "  <tbody>\n",
       "    <tr>\n",
       "      <th>L'Abergement-Clémenciat</th>\n",
       "      <td>1</td>\n",
       "      <td>AIN</td>\n",
       "      <td>1</td>\n",
       "      <td>592</td>\n",
       "      <td>84</td>\n",
       "      <td>9</td>\n",
       "      <td>154</td>\n",
       "      <td>345</td>\n",
       "    </tr>\n",
       "    <tr>\n",
       "      <th>L'Abergement-de-Varey</th>\n",
       "      <td>1</td>\n",
       "      <td>AIN</td>\n",
       "      <td>2</td>\n",
       "      <td>215</td>\n",
       "      <td>36</td>\n",
       "      <td>5</td>\n",
       "      <td>66</td>\n",
       "      <td>108</td>\n",
       "    </tr>\n",
       "    <tr>\n",
       "      <th>Ambérieu-en-Bugey</th>\n",
       "      <td>1</td>\n",
       "      <td>AIN</td>\n",
       "      <td>4</td>\n",
       "      <td>8205</td>\n",
       "      <td>1698</td>\n",
       "      <td>126</td>\n",
       "      <td>2717</td>\n",
       "      <td>3664</td>\n",
       "    </tr>\n",
       "    <tr>\n",
       "      <th>Ambérieux-en-Dombes</th>\n",
       "      <td>1</td>\n",
       "      <td>AIN</td>\n",
       "      <td>5</td>\n",
       "      <td>1152</td>\n",
       "      <td>170</td>\n",
       "      <td>18</td>\n",
       "      <td>280</td>\n",
       "      <td>684</td>\n",
       "    </tr>\n",
       "    <tr>\n",
       "      <th>Ambléon</th>\n",
       "      <td>1</td>\n",
       "      <td>AIN</td>\n",
       "      <td>6</td>\n",
       "      <td>105</td>\n",
       "      <td>17</td>\n",
       "      <td>1</td>\n",
       "      <td>35</td>\n",
       "      <td>52</td>\n",
       "    </tr>\n",
       "  </tbody>\n",
       "</table>\n",
       "</div>"
      ],
      "text/plain": [
       "                        Department code Department name  Town code  \\\n",
       "Town name                                                            \n",
       "L'Abergement-Clémenciat               1             AIN          1   \n",
       "L'Abergement-de-Varey                 1             AIN          2   \n",
       "Ambérieu-en-Bugey                     1             AIN          4   \n",
       "Ambérieux-en-Dombes                   1             AIN          5   \n",
       "Ambléon                               1             AIN          6   \n",
       "\n",
       "                         Registered  Abstentions  Null  Choice A  Choice B  \n",
       "Town name                                                                   \n",
       "L'Abergement-Clémenciat         592           84     9       154       345  \n",
       "L'Abergement-de-Varey           215           36     5        66       108  \n",
       "Ambérieu-en-Bugey              8205         1698   126      2717      3664  \n",
       "Ambérieux-en-Dombes            1152          170    18       280       684  \n",
       "Ambléon                         105           17     1        35        52  "
      ]
     },
     "execution_count": 20,
     "metadata": {},
     "output_type": "execute_result"
    }
   ],
   "source": [
    "df.head()"
   ]
  },
  {
   "cell_type": "markdown",
   "metadata": {},
   "source": [
    "Therefore, we would like group the votes by department and add them up."
   ]
  },
  {
   "cell_type": "code",
   "execution_count": 21,
   "metadata": {},
   "outputs": [
    {
     "data": {
      "text/html": [
       "<div>\n",
       "<style scoped>\n",
       "    .dataframe tbody tr th:only-of-type {\n",
       "        vertical-align: middle;\n",
       "    }\n",
       "\n",
       "    .dataframe tbody tr th {\n",
       "        vertical-align: top;\n",
       "    }\n",
       "\n",
       "    .dataframe thead th {\n",
       "        text-align: right;\n",
       "    }\n",
       "</style>\n",
       "<table border=\"1\" class=\"dataframe\">\n",
       "  <thead>\n",
       "    <tr style=\"text-align: right;\">\n",
       "      <th></th>\n",
       "      <th>Town code</th>\n",
       "      <th>Registered</th>\n",
       "      <th>Abstentions</th>\n",
       "      <th>Null</th>\n",
       "      <th>Choice A</th>\n",
       "      <th>Choice B</th>\n",
       "    </tr>\n",
       "    <tr>\n",
       "      <th>Department code</th>\n",
       "      <th></th>\n",
       "      <th></th>\n",
       "      <th></th>\n",
       "      <th></th>\n",
       "      <th></th>\n",
       "      <th></th>\n",
       "    </tr>\n",
       "  </thead>\n",
       "  <tbody>\n",
       "    <tr>\n",
       "      <th>1</th>\n",
       "      <td>96341</td>\n",
       "      <td>393808</td>\n",
       "      <td>65996</td>\n",
       "      <td>6453</td>\n",
       "      <td>116379</td>\n",
       "      <td>204980</td>\n",
       "    </tr>\n",
       "    <tr>\n",
       "      <th>10</th>\n",
       "      <td>96568</td>\n",
       "      <td>203590</td>\n",
       "      <td>37939</td>\n",
       "      <td>3466</td>\n",
       "      <td>54743</td>\n",
       "      <td>107442</td>\n",
       "    </tr>\n",
       "    <tr>\n",
       "      <th>11</th>\n",
       "      <td>96472</td>\n",
       "      <td>264288</td>\n",
       "      <td>43641</td>\n",
       "      <td>4299</td>\n",
       "      <td>102595</td>\n",
       "      <td>113753</td>\n",
       "    </tr>\n",
       "    <tr>\n",
       "      <th>12</th>\n",
       "      <td>46538</td>\n",
       "      <td>218347</td>\n",
       "      <td>32095</td>\n",
       "      <td>4539</td>\n",
       "      <td>83404</td>\n",
       "      <td>98309</td>\n",
       "    </tr>\n",
       "    <tr>\n",
       "      <th>13</th>\n",
       "      <td>7140</td>\n",
       "      <td>1314766</td>\n",
       "      <td>257432</td>\n",
       "      <td>16711</td>\n",
       "      <td>428682</td>\n",
       "      <td>611941</td>\n",
       "    </tr>\n",
       "    <tr>\n",
       "      <th>14</th>\n",
       "      <td>270982</td>\n",
       "      <td>490547</td>\n",
       "      <td>82498</td>\n",
       "      <td>6617</td>\n",
       "      <td>176764</td>\n",
       "      <td>224668</td>\n",
       "    </tr>\n",
       "    <tr>\n",
       "      <th>15</th>\n",
       "      <td>35148</td>\n",
       "      <td>120962</td>\n",
       "      <td>20366</td>\n",
       "      <td>2190</td>\n",
       "      <td>42528</td>\n",
       "      <td>55878</td>\n",
       "    </tr>\n",
       "    <tr>\n",
       "      <th>16</th>\n",
       "      <td>85276</td>\n",
       "      <td>260765</td>\n",
       "      <td>46641</td>\n",
       "      <td>4665</td>\n",
       "      <td>100785</td>\n",
       "      <td>108674</td>\n",
       "    </tr>\n",
       "    <tr>\n",
       "      <th>17</th>\n",
       "      <td>114973</td>\n",
       "      <td>471947</td>\n",
       "      <td>85478</td>\n",
       "      <td>7728</td>\n",
       "      <td>163065</td>\n",
       "      <td>215676</td>\n",
       "    </tr>\n",
       "    <tr>\n",
       "      <th>18</th>\n",
       "      <td>42195</td>\n",
       "      <td>230917</td>\n",
       "      <td>45295</td>\n",
       "      <td>4007</td>\n",
       "      <td>80153</td>\n",
       "      <td>101462</td>\n",
       "    </tr>\n",
       "    <tr>\n",
       "      <th>19</th>\n",
       "      <td>41217</td>\n",
       "      <td>186701</td>\n",
       "      <td>27332</td>\n",
       "      <td>3274</td>\n",
       "      <td>87927</td>\n",
       "      <td>68168</td>\n",
       "    </tr>\n",
       "    <tr>\n",
       "      <th>2</th>\n",
       "      <td>340904</td>\n",
       "      <td>376068</td>\n",
       "      <td>72928</td>\n",
       "      <td>5196</td>\n",
       "      <td>120916</td>\n",
       "      <td>177028</td>\n",
       "    </tr>\n",
       "    <tr>\n",
       "      <th>21</th>\n",
       "      <td>252841</td>\n",
       "      <td>354789</td>\n",
       "      <td>60284</td>\n",
       "      <td>5434</td>\n",
       "      <td>118591</td>\n",
       "      <td>170480</td>\n",
       "    </tr>\n",
       "    <tr>\n",
       "      <th>22</th>\n",
       "      <td>72993</td>\n",
       "      <td>450961</td>\n",
       "      <td>64453</td>\n",
       "      <td>6971</td>\n",
       "      <td>189787</td>\n",
       "      <td>189750</td>\n",
       "    </tr>\n",
       "    <tr>\n",
       "      <th>23</th>\n",
       "      <td>34625</td>\n",
       "      <td>96875</td>\n",
       "      <td>17218</td>\n",
       "      <td>1907</td>\n",
       "      <td>39646</td>\n",
       "      <td>38104</td>\n",
       "    </tr>\n",
       "    <tr>\n",
       "      <th>24</th>\n",
       "      <td>163996</td>\n",
       "      <td>311933</td>\n",
       "      <td>47286</td>\n",
       "      <td>5833</td>\n",
       "      <td>129077</td>\n",
       "      <td>129737</td>\n",
       "    </tr>\n",
       "    <tr>\n",
       "      <th>25</th>\n",
       "      <td>190536</td>\n",
       "      <td>359193</td>\n",
       "      <td>61777</td>\n",
       "      <td>6004</td>\n",
       "      <td>120702</td>\n",
       "      <td>170710</td>\n",
       "    </tr>\n",
       "    <tr>\n",
       "      <th>26</th>\n",
       "      <td>71085</td>\n",
       "      <td>353056</td>\n",
       "      <td>59555</td>\n",
       "      <td>5248</td>\n",
       "      <td>120591</td>\n",
       "      <td>167662</td>\n",
       "    </tr>\n",
       "    <tr>\n",
       "      <th>27</th>\n",
       "      <td>236675</td>\n",
       "      <td>417830</td>\n",
       "      <td>77270</td>\n",
       "      <td>6085</td>\n",
       "      <td>129353</td>\n",
       "      <td>205122</td>\n",
       "    </tr>\n",
       "    <tr>\n",
       "      <th>28</th>\n",
       "      <td>85380</td>\n",
       "      <td>297784</td>\n",
       "      <td>56589</td>\n",
       "      <td>4380</td>\n",
       "      <td>90386</td>\n",
       "      <td>146429</td>\n",
       "    </tr>\n",
       "    <tr>\n",
       "      <th>29</th>\n",
       "      <td>42682</td>\n",
       "      <td>676771</td>\n",
       "      <td>107176</td>\n",
       "      <td>9523</td>\n",
       "      <td>281381</td>\n",
       "      <td>278691</td>\n",
       "    </tr>\n",
       "    <tr>\n",
       "      <th>2A</th>\n",
       "      <td>21484</td>\n",
       "      <td>101682</td>\n",
       "      <td>26173</td>\n",
       "      <td>1294</td>\n",
       "      <td>26482</td>\n",
       "      <td>47733</td>\n",
       "    </tr>\n",
       "    <tr>\n",
       "      <th>2B</th>\n",
       "      <td>44550</td>\n",
       "      <td>118667</td>\n",
       "      <td>30523</td>\n",
       "      <td>1627</td>\n",
       "      <td>34435</td>\n",
       "      <td>52082</td>\n",
       "    </tr>\n",
       "    <tr>\n",
       "      <th>3</th>\n",
       "      <td>51482</td>\n",
       "      <td>256275</td>\n",
       "      <td>45266</td>\n",
       "      <td>5059</td>\n",
       "      <td>96398</td>\n",
       "      <td>109552</td>\n",
       "    </tr>\n",
       "    <tr>\n",
       "      <th>30</th>\n",
       "      <td>63287</td>\n",
       "      <td>513138</td>\n",
       "      <td>87990</td>\n",
       "      <td>7122</td>\n",
       "      <td>171525</td>\n",
       "      <td>246501</td>\n",
       "    </tr>\n",
       "    <tr>\n",
       "      <th>31</th>\n",
       "      <td>175480</td>\n",
       "      <td>845035</td>\n",
       "      <td>139682</td>\n",
       "      <td>11760</td>\n",
       "      <td>352073</td>\n",
       "      <td>341520</td>\n",
       "    </tr>\n",
       "    <tr>\n",
       "      <th>32</th>\n",
       "      <td>109154</td>\n",
       "      <td>143798</td>\n",
       "      <td>20408</td>\n",
       "      <td>2724</td>\n",
       "      <td>57851</td>\n",
       "      <td>62815</td>\n",
       "    </tr>\n",
       "    <tr>\n",
       "      <th>33</th>\n",
       "      <td>150089</td>\n",
       "      <td>1007663</td>\n",
       "      <td>174717</td>\n",
       "      <td>14040</td>\n",
       "      <td>393445</td>\n",
       "      <td>425461</td>\n",
       "    </tr>\n",
       "    <tr>\n",
       "      <th>34</th>\n",
       "      <td>59065</td>\n",
       "      <td>746616</td>\n",
       "      <td>133194</td>\n",
       "      <td>10478</td>\n",
       "      <td>264808</td>\n",
       "      <td>338136</td>\n",
       "    </tr>\n",
       "    <tr>\n",
       "      <th>35</th>\n",
       "      <td>64465</td>\n",
       "      <td>697043</td>\n",
       "      <td>106972</td>\n",
       "      <td>11045</td>\n",
       "      <td>273145</td>\n",
       "      <td>305881</td>\n",
       "    </tr>\n",
       "    <tr>\n",
       "      <th>...</th>\n",
       "      <td>...</td>\n",
       "      <td>...</td>\n",
       "      <td>...</td>\n",
       "      <td>...</td>\n",
       "      <td>...</td>\n",
       "      <td>...</td>\n",
       "    </tr>\n",
       "    <tr>\n",
       "      <th>79</th>\n",
       "      <td>54328</td>\n",
       "      <td>270711</td>\n",
       "      <td>43596</td>\n",
       "      <td>5400</td>\n",
       "      <td>106262</td>\n",
       "      <td>115453</td>\n",
       "    </tr>\n",
       "    <tr>\n",
       "      <th>8</th>\n",
       "      <td>117655</td>\n",
       "      <td>196579</td>\n",
       "      <td>40508</td>\n",
       "      <td>2480</td>\n",
       "      <td>63735</td>\n",
       "      <td>89856</td>\n",
       "    </tr>\n",
       "    <tr>\n",
       "      <th>80</th>\n",
       "      <td>323704</td>\n",
       "      <td>409444</td>\n",
       "      <td>74295</td>\n",
       "      <td>6012</td>\n",
       "      <td>140762</td>\n",
       "      <td>188375</td>\n",
       "    </tr>\n",
       "    <tr>\n",
       "      <th>81</th>\n",
       "      <td>52943</td>\n",
       "      <td>283884</td>\n",
       "      <td>41824</td>\n",
       "      <td>5346</td>\n",
       "      <td>110685</td>\n",
       "      <td>126029</td>\n",
       "    </tr>\n",
       "    <tr>\n",
       "      <th>82</th>\n",
       "      <td>19110</td>\n",
       "      <td>175312</td>\n",
       "      <td>26302</td>\n",
       "      <td>3166</td>\n",
       "      <td>61944</td>\n",
       "      <td>83900</td>\n",
       "    </tr>\n",
       "    <tr>\n",
       "      <th>83</th>\n",
       "      <td>11911</td>\n",
       "      <td>757180</td>\n",
       "      <td>147017</td>\n",
       "      <td>9433</td>\n",
       "      <td>191243</td>\n",
       "      <td>409487</td>\n",
       "    </tr>\n",
       "    <tr>\n",
       "      <th>84</th>\n",
       "      <td>11476</td>\n",
       "      <td>388052</td>\n",
       "      <td>69617</td>\n",
       "      <td>5546</td>\n",
       "      <td>116007</td>\n",
       "      <td>196882</td>\n",
       "    </tr>\n",
       "    <tr>\n",
       "      <th>85</th>\n",
       "      <td>42930</td>\n",
       "      <td>488819</td>\n",
       "      <td>71718</td>\n",
       "      <td>9717</td>\n",
       "      <td>151679</td>\n",
       "      <td>255705</td>\n",
       "    </tr>\n",
       "    <tr>\n",
       "      <th>86</th>\n",
       "      <td>41394</td>\n",
       "      <td>303653</td>\n",
       "      <td>52557</td>\n",
       "      <td>5406</td>\n",
       "      <td>116025</td>\n",
       "      <td>129665</td>\n",
       "    </tr>\n",
       "    <tr>\n",
       "      <th>87</th>\n",
       "      <td>20765</td>\n",
       "      <td>264914</td>\n",
       "      <td>41025</td>\n",
       "      <td>5950</td>\n",
       "      <td>117554</td>\n",
       "      <td>100385</td>\n",
       "    </tr>\n",
       "    <tr>\n",
       "      <th>88</th>\n",
       "      <td>136950</td>\n",
       "      <td>285410</td>\n",
       "      <td>51334</td>\n",
       "      <td>5174</td>\n",
       "      <td>87972</td>\n",
       "      <td>140930</td>\n",
       "    </tr>\n",
       "    <tr>\n",
       "      <th>89</th>\n",
       "      <td>110913</td>\n",
       "      <td>245258</td>\n",
       "      <td>47235</td>\n",
       "      <td>3547</td>\n",
       "      <td>73434</td>\n",
       "      <td>121042</td>\n",
       "    </tr>\n",
       "    <tr>\n",
       "      <th>9</th>\n",
       "      <td>56676</td>\n",
       "      <td>116370</td>\n",
       "      <td>18502</td>\n",
       "      <td>1820</td>\n",
       "      <td>53866</td>\n",
       "      <td>42182</td>\n",
       "    </tr>\n",
       "    <tr>\n",
       "      <th>90</th>\n",
       "      <td>5395</td>\n",
       "      <td>94889</td>\n",
       "      <td>18382</td>\n",
       "      <td>1584</td>\n",
       "      <td>31058</td>\n",
       "      <td>43865</td>\n",
       "    </tr>\n",
       "    <tr>\n",
       "      <th>91</th>\n",
       "      <td>68428</td>\n",
       "      <td>767292</td>\n",
       "      <td>159764</td>\n",
       "      <td>10277</td>\n",
       "      <td>276826</td>\n",
       "      <td>320425</td>\n",
       "    </tr>\n",
       "    <tr>\n",
       "      <th>92</th>\n",
       "      <td>1489</td>\n",
       "      <td>938538</td>\n",
       "      <td>193160</td>\n",
       "      <td>11726</td>\n",
       "      <td>324448</td>\n",
       "      <td>409204</td>\n",
       "    </tr>\n",
       "    <tr>\n",
       "      <th>93</th>\n",
       "      <td>1770</td>\n",
       "      <td>740536</td>\n",
       "      <td>196517</td>\n",
       "      <td>10104</td>\n",
       "      <td>316672</td>\n",
       "      <td>217243</td>\n",
       "    </tr>\n",
       "    <tr>\n",
       "      <th>94</th>\n",
       "      <td>2180</td>\n",
       "      <td>767571</td>\n",
       "      <td>172708</td>\n",
       "      <td>9501</td>\n",
       "      <td>297286</td>\n",
       "      <td>288076</td>\n",
       "    </tr>\n",
       "    <tr>\n",
       "      <th>95</th>\n",
       "      <td>61519</td>\n",
       "      <td>704810</td>\n",
       "      <td>162343</td>\n",
       "      <td>9752</td>\n",
       "      <td>254693</td>\n",
       "      <td>278022</td>\n",
       "    </tr>\n",
       "    <tr>\n",
       "      <th>ZA</th>\n",
       "      <td>3745</td>\n",
       "      <td>298108</td>\n",
       "      <td>141585</td>\n",
       "      <td>11364</td>\n",
       "      <td>95161</td>\n",
       "      <td>49998</td>\n",
       "    </tr>\n",
       "    <tr>\n",
       "      <th>ZB</th>\n",
       "      <td>7395</td>\n",
       "      <td>302903</td>\n",
       "      <td>144126</td>\n",
       "      <td>12507</td>\n",
       "      <td>90063</td>\n",
       "      <td>56207</td>\n",
       "    </tr>\n",
       "    <tr>\n",
       "      <th>ZC</th>\n",
       "      <td>7164</td>\n",
       "      <td>76874</td>\n",
       "      <td>37706</td>\n",
       "      <td>1756</td>\n",
       "      <td>20425</td>\n",
       "      <td>16987</td>\n",
       "    </tr>\n",
       "    <tr>\n",
       "      <th>ZD</th>\n",
       "      <td>9900</td>\n",
       "      <td>578409</td>\n",
       "      <td>199021</td>\n",
       "      <td>15303</td>\n",
       "      <td>231609</td>\n",
       "      <td>132476</td>\n",
       "    </tr>\n",
       "    <tr>\n",
       "      <th>ZM</th>\n",
       "      <td>8653</td>\n",
       "      <td>77413</td>\n",
       "      <td>39731</td>\n",
       "      <td>1699</td>\n",
       "      <td>15376</td>\n",
       "      <td>20607</td>\n",
       "    </tr>\n",
       "    <tr>\n",
       "      <th>ZN</th>\n",
       "      <td>26961</td>\n",
       "      <td>165467</td>\n",
       "      <td>73839</td>\n",
       "      <td>2369</td>\n",
       "      <td>28857</td>\n",
       "      <td>60402</td>\n",
       "    </tr>\n",
       "    <tr>\n",
       "      <th>ZP</th>\n",
       "      <td>1656</td>\n",
       "      <td>186642</td>\n",
       "      <td>94542</td>\n",
       "      <td>2281</td>\n",
       "      <td>36056</td>\n",
       "      <td>53763</td>\n",
       "    </tr>\n",
       "    <tr>\n",
       "      <th>ZS</th>\n",
       "      <td>1003</td>\n",
       "      <td>4923</td>\n",
       "      <td>2193</td>\n",
       "      <td>99</td>\n",
       "      <td>1456</td>\n",
       "      <td>1175</td>\n",
       "    </tr>\n",
       "    <tr>\n",
       "      <th>ZW</th>\n",
       "      <td>1</td>\n",
       "      <td>8940</td>\n",
       "      <td>2494</td>\n",
       "      <td>39</td>\n",
       "      <td>3359</td>\n",
       "      <td>3048</td>\n",
       "    </tr>\n",
       "    <tr>\n",
       "      <th>ZX</th>\n",
       "      <td>1502</td>\n",
       "      <td>22685</td>\n",
       "      <td>14408</td>\n",
       "      <td>244</td>\n",
       "      <td>2961</td>\n",
       "      <td>5072</td>\n",
       "    </tr>\n",
       "    <tr>\n",
       "      <th>ZZ</th>\n",
       "      <td>66</td>\n",
       "      <td>1043586</td>\n",
       "      <td>635882</td>\n",
       "      <td>4410</td>\n",
       "      <td>173626</td>\n",
       "      <td>229668</td>\n",
       "    </tr>\n",
       "  </tbody>\n",
       "</table>\n",
       "<p>107 rows × 6 columns</p>\n",
       "</div>"
      ],
      "text/plain": [
       "                 Town code  Registered  Abstentions   Null  Choice A  Choice B\n",
       "Department code                                                               \n",
       "1                    96341      393808        65996   6453    116379    204980\n",
       "10                   96568      203590        37939   3466     54743    107442\n",
       "11                   96472      264288        43641   4299    102595    113753\n",
       "12                   46538      218347        32095   4539     83404     98309\n",
       "13                    7140     1314766       257432  16711    428682    611941\n",
       "14                  270982      490547        82498   6617    176764    224668\n",
       "15                   35148      120962        20366   2190     42528     55878\n",
       "16                   85276      260765        46641   4665    100785    108674\n",
       "17                  114973      471947        85478   7728    163065    215676\n",
       "18                   42195      230917        45295   4007     80153    101462\n",
       "19                   41217      186701        27332   3274     87927     68168\n",
       "2                   340904      376068        72928   5196    120916    177028\n",
       "21                  252841      354789        60284   5434    118591    170480\n",
       "22                   72993      450961        64453   6971    189787    189750\n",
       "23                   34625       96875        17218   1907     39646     38104\n",
       "24                  163996      311933        47286   5833    129077    129737\n",
       "25                  190536      359193        61777   6004    120702    170710\n",
       "26                   71085      353056        59555   5248    120591    167662\n",
       "27                  236675      417830        77270   6085    129353    205122\n",
       "28                   85380      297784        56589   4380     90386    146429\n",
       "29                   42682      676771       107176   9523    281381    278691\n",
       "2A                   21484      101682        26173   1294     26482     47733\n",
       "2B                   44550      118667        30523   1627     34435     52082\n",
       "3                    51482      256275        45266   5059     96398    109552\n",
       "30                   63287      513138        87990   7122    171525    246501\n",
       "31                  175480      845035       139682  11760    352073    341520\n",
       "32                  109154      143798        20408   2724     57851     62815\n",
       "33                  150089     1007663       174717  14040    393445    425461\n",
       "34                   59065      746616       133194  10478    264808    338136\n",
       "35                   64465      697043       106972  11045    273145    305881\n",
       "...                    ...         ...          ...    ...       ...       ...\n",
       "79                   54328      270711        43596   5400    106262    115453\n",
       "8                   117655      196579        40508   2480     63735     89856\n",
       "80                  323704      409444        74295   6012    140762    188375\n",
       "81                   52943      283884        41824   5346    110685    126029\n",
       "82                   19110      175312        26302   3166     61944     83900\n",
       "83                   11911      757180       147017   9433    191243    409487\n",
       "84                   11476      388052        69617   5546    116007    196882\n",
       "85                   42930      488819        71718   9717    151679    255705\n",
       "86                   41394      303653        52557   5406    116025    129665\n",
       "87                   20765      264914        41025   5950    117554    100385\n",
       "88                  136950      285410        51334   5174     87972    140930\n",
       "89                  110913      245258        47235   3547     73434    121042\n",
       "9                    56676      116370        18502   1820     53866     42182\n",
       "90                    5395       94889        18382   1584     31058     43865\n",
       "91                   68428      767292       159764  10277    276826    320425\n",
       "92                    1489      938538       193160  11726    324448    409204\n",
       "93                    1770      740536       196517  10104    316672    217243\n",
       "94                    2180      767571       172708   9501    297286    288076\n",
       "95                   61519      704810       162343   9752    254693    278022\n",
       "ZA                    3745      298108       141585  11364     95161     49998\n",
       "ZB                    7395      302903       144126  12507     90063     56207\n",
       "ZC                    7164       76874        37706   1756     20425     16987\n",
       "ZD                    9900      578409       199021  15303    231609    132476\n",
       "ZM                    8653       77413        39731   1699     15376     20607\n",
       "ZN                   26961      165467        73839   2369     28857     60402\n",
       "ZP                    1656      186642        94542   2281     36056     53763\n",
       "ZS                    1003        4923         2193     99      1456      1175\n",
       "ZW                       1        8940         2494     39      3359      3048\n",
       "ZX                    1502       22685        14408    244      2961      5072\n",
       "ZZ                      66     1043586       635882   4410    173626    229668\n",
       "\n",
       "[107 rows x 6 columns]"
      ]
     },
     "execution_count": 21,
     "metadata": {},
     "output_type": "execute_result"
    }
   ],
   "source": [
    "df.groupby('Department code').sum()"
   ]
  },
  {
   "cell_type": "code",
   "execution_count": 36,
   "metadata": {},
   "outputs": [],
   "source": [
    "df_department = df.groupby(['Department code', 'Department name']).sum().reset_index()"
   ]
  },
  {
   "cell_type": "markdown",
   "metadata": {},
   "source": [
    "## Part 3: Merging information together"
   ]
  },
  {
   "cell_type": "markdown",
   "metadata": {},
   "source": [
    "We would like to plot some of the information into the a map."
   ]
  },
  {
   "cell_type": "code",
   "execution_count": 37,
   "metadata": {},
   "outputs": [],
   "source": [
    "import geopandas as gpd"
   ]
  },
  {
   "cell_type": "code",
   "execution_count": 38,
   "metadata": {},
   "outputs": [],
   "source": [
    "gdf_department = gpd.read_file(os.path.join('data', 'departements.geojson'))"
   ]
  },
  {
   "cell_type": "code",
   "execution_count": 39,
   "metadata": {},
   "outputs": [
    {
     "data": {
      "text/plain": [
       "geopandas.geodataframe.GeoDataFrame"
      ]
     },
     "execution_count": 39,
     "metadata": {},
     "output_type": "execute_result"
    }
   ],
   "source": [
    "type(gdf_department)"
   ]
  },
  {
   "cell_type": "code",
   "execution_count": 40,
   "metadata": {},
   "outputs": [
    {
     "data": {
      "text/html": [
       "<div>\n",
       "<style scoped>\n",
       "    .dataframe tbody tr th:only-of-type {\n",
       "        vertical-align: middle;\n",
       "    }\n",
       "\n",
       "    .dataframe tbody tr th {\n",
       "        vertical-align: top;\n",
       "    }\n",
       "\n",
       "    .dataframe thead th {\n",
       "        text-align: right;\n",
       "    }\n",
       "</style>\n",
       "<table border=\"1\" class=\"dataframe\">\n",
       "  <thead>\n",
       "    <tr style=\"text-align: right;\">\n",
       "      <th></th>\n",
       "      <th>code</th>\n",
       "      <th>nom</th>\n",
       "      <th>geometry</th>\n",
       "    </tr>\n",
       "  </thead>\n",
       "  <tbody>\n",
       "    <tr>\n",
       "      <th>0</th>\n",
       "      <td>02</td>\n",
       "      <td>Aisne</td>\n",
       "      <td>POLYGON ((3.172704445659 50.011996744997, 3.18...</td>\n",
       "    </tr>\n",
       "    <tr>\n",
       "      <th>1</th>\n",
       "      <td>10</td>\n",
       "      <td>Aube</td>\n",
       "      <td>POLYGON ((3.4147888224632 48.390268550005, 3.4...</td>\n",
       "    </tr>\n",
       "    <tr>\n",
       "      <th>2</th>\n",
       "      <td>14</td>\n",
       "      <td>Calvados</td>\n",
       "      <td>POLYGON ((-1.1196198636379 49.355568981262, -1...</td>\n",
       "    </tr>\n",
       "    <tr>\n",
       "      <th>3</th>\n",
       "      <td>15</td>\n",
       "      <td>Cantal</td>\n",
       "      <td>POLYGON ((2.5084125130653 45.478501516921, 2.5...</td>\n",
       "    </tr>\n",
       "    <tr>\n",
       "      <th>4</th>\n",
       "      <td>28</td>\n",
       "      <td>Eure-et-Loir</td>\n",
       "      <td>POLYGON ((0.8148247207739 48.670163564137, 0.8...</td>\n",
       "    </tr>\n",
       "  </tbody>\n",
       "</table>\n",
       "</div>"
      ],
      "text/plain": [
       "  code           nom                                           geometry\n",
       "0   02         Aisne  POLYGON ((3.172704445659 50.011996744997, 3.18...\n",
       "1   10          Aube  POLYGON ((3.4147888224632 48.390268550005, 3.4...\n",
       "2   14      Calvados  POLYGON ((-1.1196198636379 49.355568981262, -1...\n",
       "3   15        Cantal  POLYGON ((2.5084125130653 45.478501516921, 2.5...\n",
       "4   28  Eure-et-Loir  POLYGON ((0.8148247207739 48.670163564137, 0.8..."
      ]
     },
     "execution_count": 40,
     "metadata": {},
     "output_type": "execute_result"
    }
   ],
   "source": [
    "gdf_department.head()"
   ]
  },
  {
   "cell_type": "code",
   "execution_count": 41,
   "metadata": {},
   "outputs": [
    {
     "data": {
      "text/plain": [
       "<matplotlib.axes._subplots.AxesSubplot at 0x7f03018ea2e8>"
      ]
     },
     "execution_count": 41,
     "metadata": {},
     "output_type": "execute_result"
    },
    {
     "data": {
      "image/png": "[encoded data removed]",
      "text/plain": [
       "<Figure size 432x288 with 1 Axes>"
      ]
     },
     "metadata": {
      "needs_background": "light"
     },
     "output_type": "display_data"
    }
   ],
   "source": [
    "gdf_department.plot()"
   ]
  },
  {
   "cell_type": "markdown",
   "metadata": {},
   "source": [
    "So what we need at that stage is to merge the different dataframe together."
   ]
  },
  {
   "cell_type": "code",
   "execution_count": 42,
   "metadata": {},
   "outputs": [],
   "source": [
    "df = gdf_department.merge(df_department, how='inner', left_on='code', right_on='Department code')"
   ]
  },
  {
   "cell_type": "code",
   "execution_count": 43,
   "metadata": {},
   "outputs": [
    {
     "data": {
      "text/plain": [
       "<matplotlib.axes._subplots.AxesSubplot at 0x7f0301dee080>"
      ]
     },
     "execution_count": 43,
     "metadata": {},
     "output_type": "execute_result"
    },
    {
     "data": {
      "image/png": "[encoded data removed]",
      "text/plain": [
       "<Figure size 432x288 with 1 Axes>"
      ]
     },
     "metadata": {
      "needs_background": "light"
     },
     "output_type": "display_data"
    }
   ],
   "source": [
    "df.plot(column='Registered')"
   ]
  },
  {
   "cell_type": "code",
   "execution_count": 48,
   "metadata": {},
   "outputs": [],
   "source": [
    "def prepend_zero(code):\n",
    "    if len(code) == 1:\n",
    "        return '0' + code\n",
    "    return code\n",
    "\n",
    "df_department['Department code'] = df_department['Department code'].apply(prepend_zero)"
   ]
  },
  {
   "cell_type": "code",
   "execution_count": 49,
   "metadata": {},
   "outputs": [],
   "source": [
    "df = gdf_department.merge(df_department, how='inner', left_on='code', right_on='Department code')"
   ]
  },
  {
   "cell_type": "code",
   "execution_count": 50,
   "metadata": {},
   "outputs": [
    {
     "data": {
      "text/plain": [
       "<matplotlib.axes._subplots.AxesSubplot at 0x7f0301eae400>"
      ]
     },
     "execution_count": 50,
     "metadata": {},
     "output_type": "execute_result"
    },
    {
     "data": {
      "image/png": "[encoded data removed]",
      "text/plain": [
       "<Figure size 432x288 with 1 Axes>"
      ]
     },
     "metadata": {
      "needs_background": "light"
     },
     "output_type": "display_data"
    }
   ],
   "source": [
    "df.plot(column='Registered')"
   ]
  },
  {
   "cell_type": "code",
   "execution_count": 51,
   "metadata": {},
   "outputs": [
    {
     "data": {
      "text/plain": [
       "<matplotlib.axes._subplots.AxesSubplot at 0x7f0301eebb38>"
      ]
     },
     "execution_count": 51,
     "metadata": {},
     "output_type": "execute_result"
    },
    {
     "data": {
      "image/png": "[encoded data removed]",
      "text/plain": [
       "<Figure size 432x288 with 1 Axes>"
      ]
     },
     "metadata": {
      "needs_background": "light"
     },
     "output_type": "display_data"
    }
   ],
   "source": [
    "df.plot(column='Choice A')"
   ]
  },
  {
   "cell_type": "code",
   "execution_count": 52,
   "metadata": {},
   "outputs": [
    {
     "data": {
      "text/plain": [
       "<matplotlib.axes._subplots.AxesSubplot at 0x7f030165fba8>"
      ]
     },
     "execution_count": 52,
     "metadata": {},
     "output_type": "execute_result"
    },
    {
     "data": {
      "image/png": "[encoded data removed]",
      "text/plain": [
       "<Figure size 432x288 with 1 Axes>"
      ]
     },
     "metadata": {
      "needs_background": "light"
     },
     "output_type": "display_data"
    }
   ],
   "source": [
    "df.plot(column='Choice B')"
   ]
  },
  {
   "cell_type": "code",
   "execution_count": 53,
   "metadata": {},
   "outputs": [],
   "source": [
    "df_normalized = df.copy()"
   ]
  },
  {
   "cell_type": "code",
   "execution_count": 55,
   "metadata": {},
   "outputs": [],
   "source": [
    "df_normalized['Choice A'] /= df[['Choice A', 'Choice B']].sum(axis=1)\n",
    "df_normalized['Choice B'] /= df[['Choice A', 'Choice B']].sum(axis=1)"
   ]
  },
  {
   "cell_type": "code",
   "execution_count": 57,
   "metadata": {},
   "outputs": [
    {
     "data": {
      "text/plain": [
       "<matplotlib.axes._subplots.AxesSubplot at 0x7f03016397f0>"
      ]
     },
     "execution_count": 57,
     "metadata": {},
     "output_type": "execute_result"
    },
    {
     "data": {
      "image/png": "[encoded data removed]",
      "text/plain": [
       "<Figure size 432x288 with 1 Axes>"
      ]
     },
     "metadata": {
      "needs_background": "light"
     },
     "output_type": "display_data"
    }
   ],
   "source": [
    "df_normalized.plot(column='Choice B')"
   ]
  },
  {
   "cell_type": "code",
   "execution_count": 58,
   "metadata": {},
   "outputs": [
    {
     "data": {
      "text/plain": [
       "<matplotlib.axes._subplots.AxesSubplot at 0x7f0301614a20>"
      ]
     },
     "execution_count": 58,
     "metadata": {},
     "output_type": "execute_result"
    },
    {
     "data": {
      "image/png": "[encoded data removed]",
      "text/plain": [
       "<Figure size 432x288 with 1 Axes>"
      ]
     },
     "metadata": {
      "needs_background": "light"
     },
     "output_type": "display_data"
    }
   ],
   "source": [
    "df_normalized.plot(column='Choice A')"
   ]
  },
  {
   "cell_type": "code",
   "execution_count": null,
   "metadata": {},
   "outputs": [],
   "source": []
  }
 ],
 "metadata": {
  "kernelspec": {
   "display_name": "Python 3",
   "language": "python",
   "name": "python3"
  },
  "language_info": {
   "codemirror_mode": {
    "name": "ipython",
    "version": 3
   },
   "file_extension": ".py",
   "mimetype": "text/x-python",
   "name": "python",
   "nbconvert_exporter": "python",
   "pygments_lexer": "ipython3",
   "version": "3.7.2"
  }
 },
 "nbformat": 4,
 "nbformat_minor": 2
}
